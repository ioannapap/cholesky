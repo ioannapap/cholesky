{
 "cells": [
  {
   "cell_type": "code",
   "execution_count": 1,
   "metadata": {},
   "outputs": [],
   "source": [
    "import numpy as np\n",
    "import scipy as sp\n",
    "\n",
    "N = 10\n"
   ]
  },
  {
   "cell_type": "code",
   "execution_count": 2,
   "metadata": {},
   "outputs": [],
   "source": [
    "#Filling N*N array to initialize it\n",
    "A1 = np.zeros((N,N), int)\n",
    "A2 = np.zeros((N,N), int)\n",
    "\n",
    "b1 = np.zeros((N,1), int)\n",
    "b2 = np.ones((N,1), int) "
   ]
  },
  {
   "cell_type": "code",
   "execution_count": 3,
   "metadata": {},
   "outputs": [
    {
     "name": "stdout",
     "output_type": "stream",
     "text": [
      "[[ 6 -4  1  0  0  0  0  0  0  0]\n",
      " [-4  6 -4  1  0  0  0  0  0  0]\n",
      " [ 1 -4  6 -4  1  0  0  0  0  0]\n",
      " [ 0  1 -4  6 -4  1  0  0  0  0]\n",
      " [ 0  0  1 -4  6 -4  1  0  0  0]\n",
      " [ 0  0  0  1 -4  6 -4  1  0  0]\n",
      " [ 0  0  0  0  1 -4  6 -4  1  0]\n",
      " [ 0  0  0  0  0  1 -4  6 -4  1]\n",
      " [ 0  0  0  0  0  0  1 -4  6 -4]\n",
      " [ 0  0  0  0  0  0  0  1 -4  6]]\n",
      "[[ 7 -4  1  0  0  0  0  0  0  0]\n",
      " [-4  7 -4  1  0  0  0  0  0  0]\n",
      " [ 1 -4  7 -4  1  0  0  0  0  0]\n",
      " [ 0  1 -4  7 -4  1  0  0  0  0]\n",
      " [ 0  0  1 -4  7 -4  1  0  0  0]\n",
      " [ 0  0  0  1 -4  7 -4  1  0  0]\n",
      " [ 0  0  0  0  1 -4  7 -4  1  0]\n",
      " [ 0  0  0  0  0  1 -4  7 -4  1]\n",
      " [ 0  0  0  0  0  0  1 -4  7 -4]\n",
      " [ 0  0  0  0  0  0  0  1 -4  7]]\n",
      "[[ 3]\n",
      " [-1]\n",
      " [ 0]\n",
      " [ 0]\n",
      " [ 0]\n",
      " [ 0]\n",
      " [ 0]\n",
      " [ 0]\n",
      " [-1]\n",
      " [ 3]]\n",
      "[[4]\n",
      " [0]\n",
      " [1]\n",
      " [1]\n",
      " [1]\n",
      " [1]\n",
      " [1]\n",
      " [1]\n",
      " [0]\n",
      " [4]]\n"
     ]
    }
   ],
   "source": [
    "#Fill arrays with the correspondant values\n",
    "np.fill_diagonal(A1, 6)\n",
    "np.fill_diagonal(A1[1:], -4)\n",
    "np.fill_diagonal(A1[:, 1:], -4)\n",
    "np.fill_diagonal(A1[2:], 1)\n",
    "np.fill_diagonal(A1[:, 2:], 1)\n",
    "\n",
    "np.fill_diagonal(A2, 7)\n",
    "np.fill_diagonal(A2[1:], -4)\n",
    "np.fill_diagonal(A2[:, 1:], -4)\n",
    "np.fill_diagonal(A2[2:], 1)\n",
    "np.fill_diagonal(A2[:, 2:], 1)\n",
    "\n",
    "b1[0] = 3\n",
    "b1[1] = -1\n",
    "b1[-2] = -1\n",
    "b1[-1] = 3\n",
    "\n",
    "b2[0] = 4\n",
    "b2[1] = 0\n",
    "b2[-2] = 0\n",
    "b2[-1] = 4\n",
    "print(A1)\n",
    "print(A2)\n",
    "\n",
    "print(b1)\n",
    "print(b2)"
   ]
  },
  {
   "cell_type": "code",
   "execution_count": null,
   "metadata": {},
   "outputs": [],
   "source": []
  }
 ],
 "metadata": {
  "kernelspec": {
   "display_name": "Python 3",
   "language": "python",
   "name": "python3"
  },
  "language_info": {
   "codemirror_mode": {
    "name": "ipython",
    "version": 3
   },
   "file_extension": ".py",
   "mimetype": "text/x-python",
   "name": "python",
   "nbconvert_exporter": "python",
   "pygments_lexer": "ipython3",
   "version": "3.7.4"
  }
 },
 "nbformat": 4,
 "nbformat_minor": 2
}
